{
  "nbformat": 4,
  "nbformat_minor": 0,
  "metadata": {
    "colab": {
      "name": "learning.ipynb",
      "provenance": [],
      "collapsed_sections": [],
      "authorship_tag": "ABX9TyPrcFn0cbaGc06t3dkXa5GS",
      "include_colab_link": true
    },
    "kernelspec": {
      "name": "python3",
      "display_name": "Python 3"
    }
  },
  "cells": [
    {
      "cell_type": "markdown",
      "metadata": {
        "id": "view-in-github",
        "colab_type": "text"
      },
      "source": [
        "<a href=\"https://colab.research.google.com/github/FazleRabbbiferdaus172/Learnings-along-the-way/blob/master/learning.ipynb\" target=\"_parent\"><img src=\"https://colab.research.google.com/assets/colab-badge.svg\" alt=\"Open In Colab\"/></a>"
      ]
    },
    {
      "cell_type": "code",
      "metadata": {
        "id": "SUQc1uW_6kxe",
        "colab_type": "code",
        "outputId": "5f12b161-9e5e-4da2-9b08-c07457fd543a",
        "colab": {
          "base_uri": "https://localhost:8080/",
          "height": 34
        }
      },
      "source": [
        "'''\n",
        "print number till n\n",
        "\n",
        "'''\n",
        "\n",
        "def seq(n,s,arr=[]):\n",
        "    if s==n:\n",
        "        return\n",
        "    else:\n",
        "        arr.append(s)\n",
        "        seq(n,s+1,arr)\n",
        "        #arr.append(s)\n",
        "    \n",
        "    return arr\n",
        "\n",
        "print(seq(3,0))\n"
      ],
      "execution_count": 0,
      "outputs": [
        {
          "output_type": "stream",
          "text": [
            "[0, 1, 2]\n"
          ],
          "name": "stdout"
        }
      ]
    },
    {
      "cell_type": "code",
      "metadata": {
        "id": "ph7ZaxQcC-0X",
        "colab_type": "code",
        "outputId": "aac7247d-03e6-4d27-f0ba-4335ccead0b0",
        "colab": {
          "base_uri": "https://localhost:8080/",
          "height": 34
        }
      },
      "source": [
        "'''\n",
        "sum till nth number \n",
        "'''\n",
        "def sum(n):\n",
        "    if n == 1:\n",
        "        return 1\n",
        "    else:\n",
        "        return n+sum(n-1)\n",
        "\n",
        "print(sum(3))"
      ],
      "execution_count": 0,
      "outputs": [
        {
          "output_type": "stream",
          "text": [
            "6\n"
          ],
          "name": "stdout"
        }
      ]
    },
    {
      "cell_type": "code",
      "metadata": {
        "id": "4J6srPnlpox8",
        "colab_type": "code",
        "outputId": "c782a55c-3647-481e-e0ff-be629a953516",
        "colab": {
          "base_uri": "https://localhost:8080/",
          "height": 34
        }
      },
      "source": [
        "'''\n",
        "febonacci using recurssion\n",
        "\n",
        "'''\n",
        "\n",
        "def feb(n):\n",
        "    if n == 0 or n == 1:\n",
        "        return 1\n",
        "    else:\n",
        "        return feb(n-1)+feb(n-2)\n",
        "\n",
        "print(feb(5))"
      ],
      "execution_count": 0,
      "outputs": [
        {
          "output_type": "stream",
          "text": [
            "8\n"
          ],
          "name": "stdout"
        }
      ]
    },
    {
      "cell_type": "code",
      "metadata": {
        "id": "oMfebhXExGtJ",
        "colab_type": "code",
        "outputId": "d39e1858-d4f4-4d3b-83f1-c047f5b47359",
        "colab": {
          "base_uri": "https://localhost:8080/",
          "height": 34
        }
      },
      "source": [
        "l = [0]*20\n",
        "def dfeb(n):\n",
        "    global l\n",
        "    if n == 0 or n == 1 :\n",
        "        return 1\n",
        "    elif l[n] == 0:\n",
        "        l[n] = dfeb(n-1) + dfeb(n-2)\n",
        "\n",
        "    return l[n]\n",
        "\n",
        "print(dfeb(5))"
      ],
      "execution_count": 0,
      "outputs": [
        {
          "output_type": "stream",
          "text": [
            "8\n"
          ],
          "name": "stdout"
        }
      ]
    },
    {
      "cell_type": "code",
      "metadata": {
        "id": "ZETZpKY-MFpX",
        "colab_type": "code",
        "colab": {}
      },
      "source": [
        "def searchLowerBound(array, key):\n",
        "\tbegin=0\n",
        "\tend=len(array)-1\n",
        "\tindex=-1\n",
        "\twhile begin<=end:\n",
        "\t\tmid=(begin+end)//2\n",
        "\t\tif key == array[mid]: \n",
        "\t\t\tindex=mid\n",
        "\t\t\tend=mid-1\n",
        "\t\telif key > array[mid]: begin=mid+1\n",
        "\t\telif key < array[mid]: end=mid-1\n",
        "\treturn begin\n",
        "\t\n",
        "\n",
        "\n",
        "info=[100,2,10,50,20,500,100,150,200,1000,100]\n",
        "info=sorted(info)\n",
        "print (info)\n",
        "while True:\n",
        "\tX = int(input())\n",
        "\tlowerbound=searchLowerBound(info,X)\n",
        "\tinfo.insert(lowerbound,X)\n",
        "\tprint (\"New array: \",info)"
      ],
      "execution_count": 0,
      "outputs": []
    },
    {
      "cell_type": "code",
      "metadata": {
        "id": "LGy9omT1V-kP",
        "colab_type": "code",
        "outputId": "d625f40b-a139-4202-8b4b-54f23900680f",
        "colab": {
          "base_uri": "https://localhost:8080/",
          "height": 51
        }
      },
      "source": [
        "def lowerboundsearch(arr,n):\n",
        "    begin = 0 \n",
        "    end = len(arr)-1\n",
        "\n",
        "    while begin <= end:\n",
        "        mid = (begin+end)//2\n",
        "        if n ==  arr[mid]:\n",
        "            begin = mid+1\n",
        "        elif n < arr[mid]:\n",
        "            end = mid -1\n",
        "        elif n > arr[mid]:\n",
        "            begin = mid+1\n",
        "    return begin\n",
        "\n",
        "\n",
        "arr=[100,2,10,50,20,500,100,150,200,1000,100]\n",
        "arr.sort()\n",
        "print(arr)\n",
        "x=lowerboundsearch(arr,101)\n",
        "arr.insert(x,101)\n",
        "print(arr)"
      ],
      "execution_count": 0,
      "outputs": [
        {
          "output_type": "stream",
          "text": [
            "[2, 10, 20, 50, 100, 100, 100, 150, 200, 500, 1000]\n",
            "[2, 10, 20, 50, 100, 100, 100, 101, 150, 200, 500, 1000]\n"
          ],
          "name": "stdout"
        }
      ]
    },
    {
      "cell_type": "markdown",
      "metadata": {
        "id": "HzqfGoMQ8uYs",
        "colab_type": "text"
      },
      "source": [
        "Binary exponents..meaning finding the power of smoe number effeciently...\n",
        "the algorithm is as follows...\n",
        "alhorithm of a pow b:\n",
        "\n",
        "res = 1\n",
        "while b > 0\n",
        "    if (b & 1)    //means lsb = 0 or 1\n",
        "        res = res*a  //means a*a\n",
        "    a = a*a   \n",
        "    b >>= 1      // to move 1 bit further\n",
        "return res"
      ]
    },
    {
      "cell_type": "code",
      "metadata": {
        "id": "5asGLPw1-SVB",
        "colab_type": "code",
        "outputId": "71344b30-fec4-49c6-a633-c8133c60fb89",
        "colab": {
          "base_uri": "https://localhost:8080/",
          "height": 34
        }
      },
      "source": [
        "def pow_pow(a,b):\n",
        "    result = 1\n",
        "    while(b>0):\n",
        "        if(b & 1):\n",
        "            result *= a\n",
        "        a *= a\n",
        "        b >>= 1\n",
        "    return result\n",
        "\n",
        "print(pow_pow(3,13))"
      ],
      "execution_count": 0,
      "outputs": [
        {
          "output_type": "stream",
          "text": [
            "1594323\n"
          ],
          "name": "stdout"
        }
      ]
    },
    {
      "cell_type": "markdown",
      "metadata": {
        "id": "6OZ6ufYzNCfY",
        "colab_type": "text"
      },
      "source": [
        "Fibonacci codeing\n"
      ]
    },
    {
      "cell_type": "code",
      "metadata": {
        "id": "ypOLg2tPNHac",
        "colab_type": "code",
        "outputId": "3bd13013-92bc-49f5-9aca-e1fed3ee3cc1",
        "colab": {
          "base_uri": "https://localhost:8080/",
          "height": 34
        }
      },
      "source": [
        "def feb_code(n):\n",
        "    febo = [0,1,1,2,3,5,8,13,21,34]\n",
        "    febop = [0,1,1,2,3,5,8,13,21,34]\n",
        "    febo.sort(reverse = True)\n",
        "    code = []\n",
        "    l=0\n",
        "    p = None\n",
        "    while n:\n",
        "        for i in febo:\n",
        "            if i <= n:\n",
        "                p = 9-febo.index(i)-2\n",
        "                #print(p)\n",
        "                l = i\n",
        "                break\n",
        "        if(len(code)<p):\n",
        "            for j in range(p):\n",
        "                code.append(0)\n",
        "\n",
        "            code.insert(p,1)\n",
        "        elif len(code)>p and code:\n",
        "            code.pop(p)\n",
        "            code.insert(p,1)\n",
        "        elif p == 0 and not code:\n",
        "            code.append(1)\n",
        "        #print(code)\n",
        "        n-=l\n",
        "    code.append(1)\n",
        "    return code\n",
        "jk = feb_code(19)\n",
        "print(''.join(map(str, jk)))"
      ],
      "execution_count": 0,
      "outputs": [
        {
          "output_type": "stream",
          "text": [
            "1001011\n"
          ],
          "name": "stdout"
        }
      ]
    },
    {
      "cell_type": "markdown",
      "metadata": {
        "id": "P93WjO2d9PJ2",
        "colab_type": "text"
      },
      "source": [
        "maximum subarray"
      ]
    },
    {
      "cell_type": "code",
      "metadata": {
        "id": "TKMFmBtOOHhf",
        "colab_type": "code",
        "outputId": "97da99a0-4cf5-4d47-d8c0-4b6bdf1471d1",
        "colab": {
          "base_uri": "https://localhost:8080/",
          "height": 51
        }
      },
      "source": [
        "arr = list(map(int,input().split()))\n",
        "c_m = float('-inf')\n",
        "g_m = float('-inf')\n",
        "\n",
        "for i in arr:\n",
        "    c_m = max(c_m+i,i)\n",
        "    g_m = max(g_m,c_m)\n",
        "\n",
        "print(g_m)"
      ],
      "execution_count": 0,
      "outputs": [
        {
          "output_type": "stream",
          "text": [
            "-2 1 -3 4 -1 2 1 -5 4\n",
            "6\n"
          ],
          "name": "stdout"
        }
      ]
    },
    {
      "cell_type": "markdown",
      "metadata": {
        "id": "zZtv0s86uLUc",
        "colab_type": "text"
      },
      "source": [
        "binary search tree"
      ]
    },
    {
      "cell_type": "code",
      "metadata": {
        "id": "MTrdybiiuP5M",
        "colab_type": "code",
        "outputId": "b4e09d40-7c5d-4453-faa3-a43938eb93dd",
        "colab": {
          "base_uri": "https://localhost:8080/",
          "height": 51
        }
      },
      "source": [
        "class node:\n",
        "    def __init__(self,value):\n",
        "        self.value = value\n",
        "        self.left = None\n",
        "        self.right = None\n",
        "\n",
        "class BST:\n",
        "    def __init__(self):\n",
        "        self.root = None\n",
        "\n",
        "    def insert(self,value):\n",
        "        newNode = node(value)\n",
        "        if not self.root:\n",
        "            self.root = newNode\n",
        "        else:\n",
        "            currentnode = self.root\n",
        "            while True:\n",
        "                if value < currentnode.value:\n",
        "                    if not currentnode.left:\n",
        "                        currentnode.left = newNode\n",
        "                        return self.root\n",
        "                    else:\n",
        "                        currentnode = currentnode.left\n",
        "\n",
        "                else:\n",
        "                    if not currentnode.right:\n",
        "                        currentnode.right = newNode\n",
        "                        return self.root\n",
        "                    else:\n",
        "                        currentnode = currentnode.right \n",
        "\n",
        "    def lookup(self,value):\n",
        "        if not self.root:\n",
        "            print(\"not found\")\n",
        "            return \n",
        "\n",
        "        currentnode = self.root\n",
        "\n",
        "        while currentnode:\n",
        "            if(value == currentnode.value):\n",
        "                print('found')\n",
        "                return\n",
        "            elif value < currentnode.value:\n",
        "                currentnode = currentnode.left\n",
        "            else:\n",
        "                currentnode = currentnode.right\n",
        "\n",
        "        print('not found')\n",
        "        return\n",
        "\n",
        "\n",
        "\n",
        "\n",
        "tree = BST()\n",
        "tree.insert(9)\n",
        "tree.lookup(9)\n",
        "tree.lookup(10)\n",
        "\n"
      ],
      "execution_count": 0,
      "outputs": [
        {
          "output_type": "stream",
          "text": [
            "found\n",
            "not found\n"
          ],
          "name": "stdout"
        }
      ]
    }
  ]
}