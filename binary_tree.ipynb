{
  "nbformat": 4,
  "nbformat_minor": 0,
  "metadata": {
    "colab": {
      "name": "binary_tree.ipynb",
      "provenance": [],
      "authorship_tag": "ABX9TyP5x5/N5rtrwwN3QSjUHV0f",
      "include_colab_link": true
    },
    "kernelspec": {
      "name": "python3",
      "display_name": "Python 3"
    }
  },
  "cells": [
    {
      "cell_type": "markdown",
      "metadata": {
        "id": "view-in-github",
        "colab_type": "text"
      },
      "source": [
        "<a href=\"https://colab.research.google.com/github/FazleRabbbiferdaus172/Learnings-along-the-way/blob/master/binary_tree.ipynb\" target=\"_parent\"><img src=\"https://colab.research.google.com/assets/colab-badge.svg\" alt=\"Open In Colab\"/></a>"
      ]
    },
    {
      "cell_type": "code",
      "metadata": {
        "id": "2xG0G3Jn0n1P",
        "colab_type": "code",
        "outputId": "ea7bc011-ead2-47df-d5d3-8aa1df98a81e",
        "colab": {
          "base_uri": "https://localhost:8080/",
          "height": 34
        }
      },
      "source": [
        "class Node(object):\n",
        "    def __init__(self,value):\n",
        "        self.value = value\n",
        "        self.left = None\n",
        "        self.right = None\n",
        "\n",
        "class BinaryTree(object):\n",
        "    def __init__(self,root):\n",
        "        self.root = Node(root)\n",
        "\n",
        "    def print_tree(self,traversal_type):\n",
        "        if traversal_type == \"preorder\":\n",
        "            return self.preorder_print(tree.root,\"\")\n",
        "        else:\n",
        "            print('none')\n",
        "            return False\n",
        "    \n",
        "    def preorder_print(self,start,traversal):\n",
        "        if start:\n",
        "            traversal += str(start.value) + \"-\"\n",
        "            traversal = self.preorder_print(start.left,traversal)\n",
        "            traversal = self.preorder_print(start.right,traversal)\n",
        "        return traversal\n",
        "\n",
        "\n",
        "tree = BinaryTree(1)\n",
        "tree.root.left = Node(2)\n",
        "tree.root.right = Node(3)\n",
        "tree.root.left.left = Node(4)\n",
        "tree.root.left.right = Node(5)\n",
        "tree.root.right.left = Node(6)\n",
        "tree.root.right.right = Node(7)\n",
        "\n",
        "print(tree.print_tree(\"preorder\"))\n",
        "\n"
      ],
      "execution_count": 0,
      "outputs": [
        {
          "output_type": "stream",
          "text": [
            "1-2-4-5-3-6-7-\n"
          ],
          "name": "stdout"
        }
      ]
    }
  ]
}